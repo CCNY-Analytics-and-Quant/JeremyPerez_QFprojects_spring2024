{
 "cells": [
  {
   "cell_type": "code",
   "execution_count": 2,
   "metadata": {},
   "outputs": [],
   "source": [
    "import pandas as pd\n",
    "import numpy as numpy\n",
    "import datetime as dt\n",
    "import matplotlib.pyplot as plt\n",
    "import seaborn as sns\n",
    "import yfinance as yf"
   ]
  },
  {
   "cell_type": "code",
   "execution_count": 9,
   "metadata": {},
   "outputs": [
    {
     "name": "stdout",
     "output_type": "stream",
     "text": [
      "This number is invalid\n"
     ]
    }
   ],
   "source": [
    "#if statement\n",
    "\n",
    "user= input('enter 1 or 2: ')\n",
    "\n",
    "if user == \"1\":\n",
    "    print (\"hello world\")\n",
    "    print(\"How are you\")\n",
    "elif user == \"2\":\n",
    "    print(\"python rocks\")\n",
    "    print(\"i love python\")\n",
    "else: print (\"This number is not valid\")"
   ]
  },
  {
   "cell_type": "code",
   "execution_count": 11,
   "metadata": {},
   "outputs": [
    {
     "name": "stdout",
     "output_type": "stream",
     "text": [
      "cats\n",
      "dogs\n",
      "rabbits\n",
      "hamsters\n"
     ]
    }
   ],
   "source": [
    "#for loop\n",
    "\n",
    "pets= ['cats', 'dogs', 'rabbits', 'hamsters']\n",
    "\n",
    "for mypets in pets: #loops over every item in the list\n",
    "    print (mypets)"
   ]
  },
  {
   "cell_type": "code",
   "execution_count": 12,
   "metadata": {},
   "outputs": [
    {
     "name": "stdout",
     "output_type": "stream",
     "text": [
      "0 cats\n",
      "1 dogs\n",
      "2 rabbits\n",
      "3 hamsters\n"
     ]
    }
   ],
   "source": [
    "#can also add indexes to the outputs of the for-loop, using enumerate().\n",
    "\n",
    "pets= ['cats', 'dogs', 'rabbits', 'hamsters']\n",
    "\n",
    "for index, mypets in enumerate(pets):\n",
    "    print (index, mypets)"
   ]
  },
  {
   "cell_type": "code",
   "execution_count": 13,
   "metadata": {},
   "outputs": [
    {
     "name": "stdout",
     "output_type": "stream",
     "text": [
      "Peter\n",
      "John\n"
     ]
    }
   ],
   "source": [
    "#For Loop through a dictionary\n",
    "age= {'Peter':5, 'John': 7}\n",
    "\n",
    "for i in age:\n",
    "    print (i)"
   ]
  },
  {
   "cell_type": "code",
   "execution_count": 15,
   "metadata": {},
   "outputs": [
    {
     "name": "stdout",
     "output_type": "stream",
     "text": [
      "Name = Peter, Age= 5\n",
      "Name = John, Age= 7\n"
     ]
    }
   ],
   "source": [
    "#To also print the key and the data from the dictionary using a for-loop.\n",
    "\n",
    "age= {'Peter':5, 'John': 7}\n",
    "\n",
    "for i in age:                                  # the  (i)  prints peter, john  in a list.\n",
    "    print(\"Name = %s, Age = %d\" %(i, age[i])) # peter and john are assigned to %s. 5 and 7 are assigned to %d.\n"
   ]
  },
  {
   "cell_type": "code",
   "execution_count": 16,
   "metadata": {},
   "outputs": [
    {
     "name": "stdout",
     "output_type": "stream",
     "text": [
      "Name = Peter, Age = 5\n",
      "Name = John, Age = 7\n"
     ]
    }
   ],
   "source": [
    "# Can also use the .item() function to do the same as above.\n",
    "\n",
    "age= {'Peter':5, 'John': 7}\n",
    "\n",
    "for i, j in age.items():\n",
    "    print (\"Name = %s, Age = %d\" %(i,j) )\n",
    "\n"
   ]
  },
  {
   "cell_type": "code",
   "execution_count": 17,
   "metadata": {},
   "outputs": [
    {
     "name": "stdout",
     "output_type": "stream",
     "text": [
      "H\n",
      "e\n",
      "l\n",
      "l\n",
      "o\n"
     ]
    }
   ],
   "source": [
    "message = \"Hello\"\n",
    "for i in message: # loops over ever item in the string.\n",
    "    print(i)"
   ]
  },
  {
   "cell_type": "code",
   "execution_count": 20,
   "metadata": {},
   "outputs": [
    {
     "name": "stdout",
     "output_type": "stream",
     "text": [
      "0\n",
      "1\n",
      "2\n",
      "3\n",
      "4\n"
     ]
    }
   ],
   "source": [
    "#Loop through a sequence of numbers, using the function range().\n",
    "#range() function generates a list of number in the form of: range(start,end,step). if a start is not given, the list begins at zero. the end value is never included in the list.\n",
    "\n",
    "#print all # ranging from 0 to 5, but not including 5 in the list.\n",
    "for i in range(5):\n",
    "    print (i)"
   ]
  },
  {
   "cell_type": "code",
   "execution_count": 21,
   "metadata": {},
   "outputs": [
    {
     "name": "stdout",
     "output_type": "stream",
     "text": [
      "3\n",
      "4\n",
      "5\n",
      "6\n",
      "7\n",
      "8\n",
      "9\n"
     ]
    }
   ],
   "source": [
    "#prints all # ranging from 3 to 10 but not including 10 in the list.\n",
    "for i in range(3,10):\n",
    "    print (i) "
   ]
  },
  {
   "cell_type": "code",
   "execution_count": 22,
   "metadata": {},
   "outputs": [
    {
     "name": "stdout",
     "output_type": "stream",
     "text": [
      "4\n",
      "6\n",
      "8\n"
     ]
    }
   ],
   "source": [
    "#prints all # from 4 to 10 skiping by multipes of 2, but not including 10 in the list.\n",
    "for i in range (4,10,2): \n",
    "    print(i)"
   ]
  },
  {
   "cell_type": "code",
   "execution_count": 23,
   "metadata": {},
   "outputs": [
    {
     "name": "stdout",
     "output_type": "stream",
     "text": [
      "H\n",
      "e\n",
      "l\n",
      "l\n",
      "o\n",
      " \n",
      "W\n",
      "o\n",
      "r\n",
      "l\n",
      "d\n"
     ]
    }
   ],
   "source": [
    "#similary to range(), format() can be used to loop through/ iterate throught elements/items in a string:\n",
    "\n",
    "for i in format(\"Hello World\"):\n",
    "    print(i)"
   ]
  },
  {
   "cell_type": "code",
   "execution_count": 31,
   "metadata": {},
   "outputs": [
    {
     "name": "stdout",
     "output_type": "stream",
     "text": [
      "counter =  5\n",
      "counter =  4\n",
      "counter =  3\n",
      "counter =  2\n",
      "counter =  1\n"
     ]
    }
   ],
   "source": [
    "#while loop\n",
    "#repeatedly executes instructions in the loop until certain while-conditions are met.\n",
    "\n",
    "#step1:must declare a variable\n",
    "counter = 5\n",
    "\n",
    "#create a condition: while the counter is greater than 0, it will return the initial value of the counter and then decreases by 1 until it the counter is no longer greater than 0\n",
    "\n",
    "while counter >0:\n",
    "    print (\"counter = \", counter)\n",
    "    counter = counter - 1      # if you remove this line, the loop will run infinite times printing \"counter= 5\" forever or kill the program.\n"
   ]
  },
  {
   "cell_type": "code",
   "execution_count": 37,
   "metadata": {},
   "outputs": [
    {
     "name": "stdout",
     "output_type": "stream",
     "text": [
      "i=  0 , j=  2\n",
      "i=  1 , j=  4\n",
      "i=  2 , j=  6\n"
     ]
    }
   ],
   "source": [
    "#Break:  when running a while loop you might want to stop when a certain condition is met. \n",
    "\n",
    "j=0\n",
    "\n",
    "for i in range(5): #the loop starts at i= 0 and continues until but not including 5\n",
    "    j=j+2           #increments j by 2\n",
    "    print('i= ',i,', j= ', j)\n",
    "    if j== 6: \n",
    "        break   #when j= 6, it stops before i = 5\n",
    "\n",
    "    #without break, the loop will continue until i = 4"
   ]
  },
  {
   "cell_type": "code",
   "execution_count": 38,
   "metadata": {},
   "outputs": [
    {
     "name": "stdout",
     "output_type": "stream",
     "text": [
      "i=  0 , j=  2\n",
      "I will be skipped over if j=6\n",
      "i=  1 , j=  4\n",
      "I will be skipped over if j=6\n",
      "i=  2 , j=  6\n",
      "i=  3 , j=  8\n",
      "I will be skipped over if j=6\n",
      "i=  4 , j=  10\n",
      "I will be skipped over if j=6\n"
     ]
    }
   ],
   "source": [
    "#Continue: the rest of the loop after the keyword is skipped for THAT ITERATION.\n",
    "\n",
    "j=0\n",
    "\n",
    "for i in range(5): #the loop starts at i= 0 and continues until but not including 5\n",
    "    j=j+2           #increments j by 2\n",
    "    print('i= ',i,', j= ', j)\n",
    "    if j== 6: \n",
    "        continue                                #When j=6 the line after the continue is not printed and continues running.\n",
    "    print ('I will be skipped over if j=6')"
   ]
  },
  {
   "cell_type": "code",
   "execution_count": 43,
   "metadata": {},
   "outputs": [
    {
     "name": "stdout",
     "output_type": "stream",
     "text": [
      "an error occurred\n"
     ]
    }
   ],
   "source": [
    "#Try, Except : these words controls how the program proceeds when there is an error.\n",
    "\n",
    "try:\n",
    "    answer =12/0\n",
    "    print (answer)\n",
    "except: \n",
    "    print (\"an error occurred\") # an occured because 12 not divisible by 0 so it prints this statement."
   ]
  },
  {
   "cell_type": "code",
   "execution_count": 44,
   "metadata": {},
   "outputs": [
    {
     "name": "stdout",
     "output_type": "stream",
     "text": [
      "Hello Universe\n"
     ]
    }
   ],
   "source": [
    "#Functions: replace() function can be used to manipulate strings\n",
    "\n",
    "newString = \"Hello World\".replace(\"World\", \"Universe\") #replaces World for Universe.\n",
    "print(newString)"
   ]
  },
  {
   "cell_type": "code",
   "execution_count": 54,
   "metadata": {},
   "outputs": [
    {
     "name": "stdout",
     "output_type": "stream",
     "text": [
      "True\n"
     ]
    }
   ],
   "source": [
    "#Defining own functions\n",
    "#--------------FORMAT----- !! (remove the \") !! -----------------------------------\n",
    "# def \"thefunctionsname\"(\"list of parameters\"):                 <--def, tells program the indented code is part of the function. \n",
    "    # \"the code\"                                        <--- details what the  function does\"\n",
    "    # return [\"expression\"]                                 <--- returns the answer from the function and exits. if the answer is not needed, dont include or write: return None\n",
    "\n",
    "#----------EXAMPLE--------------------------------------------\n",
    "\n",
    "\n",
    "\n",
    "def checkIfprime (numberTocheck):\n",
    "    for x in range (2,numberTocheck):\n",
    "        if (numberTocheck %x ==0): \n",
    "            return False\n",
    "        return True\n",
    "    \n",
    "answer= checkIfprime(13)    # it runs the # 13 in the function checkIfprime. 13 is stored into (numberTocheck) and ran into the for loop to determine if it is a prime number\n",
    "print(answer)               #prints true if it is prime and false if it is not"
   ]
  },
  {
   "cell_type": "code",
   "execution_count": null,
   "metadata": {},
   "outputs": [],
   "source": []
  }
 ],
 "metadata": {
  "kernelspec": {
   "display_name": "ccny",
   "language": "python",
   "name": "python3"
  },
  "language_info": {
   "codemirror_mode": {
    "name": "ipython",
    "version": 3
   },
   "file_extension": ".py",
   "mimetype": "text/x-python",
   "name": "python",
   "nbconvert_exporter": "python",
   "pygments_lexer": "ipython3",
   "version": "3.12.2"
  }
 },
 "nbformat": 4,
 "nbformat_minor": 2
}
